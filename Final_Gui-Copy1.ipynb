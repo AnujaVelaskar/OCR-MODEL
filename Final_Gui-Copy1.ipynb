{
 "cells": [
  {
   "cell_type": "code",
   "execution_count": 16,
   "metadata": {},
   "outputs": [],
   "source": [
    "from tkinter import *\n",
    "from tkinter import ttk\n",
    "from tkinter import filedialog\n",
    "from tkinter.filedialog import askopenfilename\n",
    "from PIL import ImageTk,Image\n",
    "import cv2\n",
    "\n",
    "root = Tk(  )\n",
    "root.configure(bg=\"#BB8FCE\")\n",
    "location=str()\n",
    "#root.geometry(\"300*200\")\n",
    "\n",
    "def Openvoice():\n",
    "    print(\"Hello\")\n",
    "        \n",
    "def OpenFile():\n",
    "    name = askopenfilename(initialdir=\"/home/anu/PROJECT/\",\n",
    "                           filetypes =((\"PNG File\", \"*.png\"),(\"BMP File\", \"*.bmp\"),(\"JPEG File\", \"*.jpeg\")),\n",
    "                           title = \"Choose a file.\"\n",
    "                           ) \n",
    "    PathTextBox.delete(\"1.0\",END)\n",
    "    PathTextBox.insert(END,name)\n",
    "    \n",
    "Title = root.title( \"Optical Character Recognition Model\")\n",
    "path = StringVar()\n",
    "\n",
    "#----------------#CSS-------------------\n",
    "HeadLabel2 = Label(root,text=\" Image Reader\")\n",
    "HeadLabel2.grid(row = 1,column = 2,pady=20,sticky=(N))\n",
    "\n",
    "InputLabel = Label(root,text = \"INPUT IMAGE:\",bg=\"#BB8FCE\",font=(\"Comic Neue\",15),fg=\"red\")\n",
    "InputLabel.grid(row=1,column = 2)\n",
    "\n",
    "BrowseButton = Button(root,font=(\"Comic Neue\",15),fg=\"black\",bd=70,bg=\"orange\", borderwidth=5,text=\"Browse\",command = OpenFile)\n",
    "BrowseButton.grid(row=2,column=2)\n",
    "\n",
    "PathLabel = Label(root,text = \"Location of file:\",pady=10,bg=\"#BB8FCE\",fg=\"white\",font=(\"Comic Neue\",15))\n",
    "PathLabel.grid(row = 5,column=2, pady=10)\n",
    "\n",
    "PathTextBox = Text(root,width = 60,height= 2)\n",
    "PathTextBox.grid(row = 6,column = 2, padx=45)\n",
    "\n",
    "#BrowseButton = Button(root,font=(\"Comic Neue\",15),fg=\"black\",bd=70,bg=\"orange\", borderwidth=5,text=\"Sart\",command = image_segmentation)\n",
    "#BrowseButton.grid(row=7,column=2,pady=20)\n",
    "\n",
    "ReadButton = Button(root,font=(\"Comic Neue\",15),fg=\"black\",bg=\"orange\", borderwidth=5,text=\"Speech\",command = Openvoice )#Opens location where voice file is being stored\n",
    "ReadButton.grid(row = 9,column = 2,pady=20)\n",
    "\n",
    "\n",
    "root.mainloop()"
   ]
  },
  {
   "cell_type": "code",
   "execution_count": null,
   "metadata": {},
   "outputs": [],
   "source": [
    " borderwidth=10"
   ]
  },
  {
   "cell_type": "code",
   "execution_count": null,
   "metadata": {},
   "outputs": [],
   "source": []
  }
 ],
 "metadata": {
  "kernelspec": {
   "display_name": "Python 3",
   "language": "python",
   "name": "python3"
  },
  "language_info": {
   "codemirror_mode": {
    "name": "ipython",
    "version": 3
   },
   "file_extension": ".py",
   "mimetype": "text/x-python",
   "name": "python",
   "nbconvert_exporter": "python",
   "pygments_lexer": "ipython3",
   "version": "3.7.6"
  }
 },
 "nbformat": 4,
 "nbformat_minor": 4
}
